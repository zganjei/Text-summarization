{
  "cells": [
    {
      "cell_type": "markdown",
      "metadata": {
        "id": "view-in-github",
        "colab_type": "text"
      },
      "source": [
        "<a href=\"https://colab.research.google.com/github/zganjei/Text-summarization/blob/main/text_summarization_with_langchain.ipynb\" target=\"_parent\"><img src=\"https://colab.research.google.com/assets/colab-badge.svg\" alt=\"Open In Colab\"/></a>"
      ]
    },
    {
      "cell_type": "markdown",
      "metadata": {
        "id": "-qHrGOvCEB70"
      },
      "source": [
        "# Text Summarization Tool\n",
        "\n",
        "This tool summarizes text using LangChain framework. A pdf file will be uploaded via the tools web interface and then the summary will be displayed.\n",
        "\n",
        "## Install required libraries"
      ]
    },
    {
      "cell_type": "code",
      "execution_count": 1,
      "metadata": {
        "id": "riSnzAF0D7kf"
      },
      "outputs": [],
      "source": [
        "%%capture\n",
        "#LangChain module associated with OpenAI LLM models\n",
        "!pip install langchain\n",
        "!pip install langchain_openai\n",
        "!pip install langchain_community\n",
        "!pip install pypdf\n",
        "# web app development library\n",
        "!pip install streamlit\n",
        "# tokeniser library\n",
        "!pip install tiktoken\n",
        "!pip install pyngrok"
      ]
    },
    {
      "cell_type": "markdown",
      "metadata": {
        "id": "89qFhTjCEAqC"
      },
      "source": [
        "## Setup OpenAI API key\n",
        "\n",
        "Setup the OpenAI API key and set it as an environment variable so that it can be retrieved in the app.py file"
      ]
    },
    {
      "cell_type": "code",
      "execution_count": 51,
      "metadata": {
        "colab": {
          "base_uri": "https://localhost:8080/"
        },
        "id": "YV0xOrAOGKHg",
        "outputId": "c36d7216-9d9e-4290-d282-2f584703f94c"
      },
      "outputs": [
        {
          "output_type": "stream",
          "name": "stdout",
          "text": [
            "API key: sk-proj-5pfnvLzOd8Qq....\n"
          ]
        }
      ],
      "source": [
        "from google.colab import userdata\n",
        "import os\n",
        "\n",
        "api_key = userdata.get('openai.api_key')\n",
        "if api_key:\n",
        "  print(f\"API key: {api_key[:20]}....\")\n",
        "else:\n",
        "  print(\"API key not found!\")\n",
        "os.environ[\"OPENAI_API_KEY\"] = api_key"
      ]
    },
    {
      "cell_type": "markdown",
      "metadata": {
        "id": "lYYIyCzeajYz"
      },
      "source": [
        "## Build and test a GenAI app for PDF summarization"
      ]
    },
    {
      "cell_type": "markdown",
      "source": [
        "## Import required packages"
      ],
      "metadata": {
        "id": "PENnNLtleUIv"
      }
    },
    {
      "cell_type": "code",
      "execution_count": 52,
      "metadata": {
        "colab": {
          "base_uri": "https://localhost:8080/"
        },
        "id": "K8MjNQBcZ0pr",
        "outputId": "0c358388-62d5-4569-f0f4-8bbad987dab2"
      },
      "outputs": [
        {
          "output_type": "stream",
          "name": "stdout",
          "text": [
            "Overwriting app.py\n"
          ]
        }
      ],
      "source": [
        "%%writefile app.py\n",
        "from langchain_openai import OpenAI\n",
        "from langchain_openai.chat_models import ChatOpenAI\n",
        "from langchain.document_loaders import PyPDFLoader\n",
        "from langchain import PromptTemplate\n",
        "from langchain.text_splitter import RecursiveCharacterTextSplitter\n",
        "from langchain.chains.summarize import load_summarize_chain\n",
        "import streamlit as st\n",
        "import os\n",
        "\n",
        "api_key = os.getenv('OPENAI_API_KEY')\n",
        "if api_key:\n",
        "  print(f\"API key: {api_key[:20]}....\")\n",
        "else:\n",
        "  print(\"API key not found!\")\n",
        "\n"
      ]
    },
    {
      "cell_type": "markdown",
      "metadata": {
        "id": "6PYpIoVDGn2B"
      },
      "source": [
        "## Load the PDF file\n",
        "\n",
        "Load the pdf file and split it by pages"
      ]
    },
    {
      "cell_type": "code",
      "source": [
        "%%writefile -a app.py\n",
        "def summarize_pdf(pdf_file_path, chunk_size, chunk_overlap, map_prompt):\n",
        "  # instantiate LLM model for gpt-3.5-turbo-16k\n",
        "  llm = ChatOpenAI(model_name=\"gpt-3.5-turbo-16k\", temperature=0, openai_api_key=api_key)\n",
        "\n",
        "  #load PDF file\n",
        "  loader = PyPDFLoader(pdf_file_path)\n",
        "  pages = loader.load()"
      ],
      "metadata": {
        "colab": {
          "base_uri": "https://localhost:8080/"
        },
        "id": "kwoi3o0eesBu",
        "outputId": "74d8ab3a-300a-4fca-cd11-57643e7323c5"
      },
      "execution_count": 53,
      "outputs": [
        {
          "output_type": "stream",
          "name": "stdout",
          "text": [
            "Appending to app.py\n"
          ]
        }
      ]
    },
    {
      "cell_type": "markdown",
      "metadata": {
        "id": "l4lJDWu0Hzfk"
      },
      "source": [
        "## The pdf summarization function\n",
        "The function will take pdf file path as an input and generate a summary of the file. We use both Map_reduce and Stuff methods."
      ]
    },
    {
      "cell_type": "code",
      "source": [
        "%%writefile -a app.py\n",
        "  #Create multiple documents\n",
        "  docs_raw_text = [page.page_content for page in pages]\n",
        "\n",
        "  # split text into chunks\n",
        "  text_splitter = RecursiveCharacterTextSplitter(chunk_size=chunk_size, chunk_overlap=chunk_overlap)\n",
        "  docs_chunks = text_splitter.create_documents(docs_raw_text)\n",
        "\n",
        "  # Summarize the chunks\n",
        "  chain = load_summarize_chain(llm, chain_type=\"stuff\", prompt = map_prompt)\n",
        "  summary= chain.invoke(docs_chunks,return_only_outputs=True)\n",
        "\n",
        "  return summary['output_text']\n"
      ],
      "metadata": {
        "colab": {
          "base_uri": "https://localhost:8080/"
        },
        "id": "Nhzd-WyhefbB",
        "outputId": "ecdef455-75d3-4a8f-f51f-d8d707e24765"
      },
      "execution_count": 54,
      "outputs": [
        {
          "output_type": "stream",
          "name": "stdout",
          "text": [
            "Appending to app.py\n"
          ]
        }
      ]
    },
    {
      "cell_type": "markdown",
      "metadata": {
        "id": "7ZkFhoWpaxvO"
      },
      "source": [
        "## Add Combo template for Map_Reduce chain type"
      ]
    },
    {
      "cell_type": "code",
      "execution_count": 55,
      "metadata": {
        "id": "XreRoe6ra3qe"
      },
      "outputs": [],
      "source": [
        "# combine_prompt_template = \"\"\"\n",
        "# You are give main points and important details of a research papaer in bullet points.\n",
        "# Your goal is to give a final summary of the main research topic and findings\n",
        "# which will be useful for an artificial intelligence researcher:\n",
        "# \"{text}\"\n",
        "# FINAL SUMMARY:\n",
        "# \"\"\"\n",
        "# combine_prompt = PromptTemplate(template=combine_prompt_template, input_variables=[\"text\"])"
      ]
    },
    {
      "cell_type": "code",
      "execution_count": 56,
      "metadata": {
        "id": "eryYAIw0dNqQ"
      },
      "outputs": [],
      "source": [
        "# def summarize_pdf_map_reduce(pdf_file_path, chunk_size, chunk_overlap, map_prompt, combine_prompt):\n",
        "#   # instantiate LLM model for gpt-3.5-turbo-16k\n",
        "#   llm = ChatOpenAI(model_name=\"gpt-3.5-turbo-16k\", temperature=0, openai_api_key=OpenAI.api_key)\n",
        "\n",
        "#   #load PDF file\n",
        "#   loader = PyPDFLoader(pdf_file_path)\n",
        "#   pages = loader.load()\n",
        "\n",
        "#   #Create multiple documents\n",
        "#   docs_raw_text = [page.page_content for page in pages]\n",
        "\n",
        "#   # split text into chunks\n",
        "#   text_splitter = RecursiveCharacterTextSplitter(chunk_size=chunk_size, chunk_overlap=chunk_overlap)\n",
        "#   docs_chunks = text_splitter.create_documents(docs_raw_text)\n",
        "\n",
        "#   # Summarize the chunks\n",
        "#   chain = load_summarize_chain(llm, chain_type=\"map_reduce\", map_prompt = map_prompt,combine_prompt=combine_prompt)\n",
        "#   summary= chain.invoke(docs_chunks,return_only_outputs=True)\n",
        "\n",
        "#   return summary['output_text']"
      ]
    },
    {
      "cell_type": "code",
      "execution_count": 57,
      "metadata": {
        "id": "Ec0i7N-PbvZk"
      },
      "outputs": [],
      "source": [
        "# summary = summarize_pdf_map_reduce(pdf_url,1000,20,map_prompt, combine_prompt)\n",
        "# print(summary)"
      ]
    },
    {
      "cell_type": "markdown",
      "source": [
        "## Add the main function with the web interface configuration"
      ],
      "metadata": {
        "id": "3eQ-1rKEfr63"
      }
    },
    {
      "cell_type": "code",
      "source": [
        "  %%writefile -a app.py\n",
        "  def main():\n",
        "    # Config the web interface\n",
        "    st.set_page_config(page_title=\"PDF Summarizer\", page_icon=\":book:\")\n",
        "    st.title(\"PDF Summarizer\")\n",
        "\n",
        "    # Input PDF file path\n",
        "    pdf_file_path = st.text_input(\"Enter PDF file path:\")\n",
        "\n",
        "    if pdf_file_path !=\"\":\n",
        "        st.write(\"PDF file was loaded successfully!\")\n",
        "\n",
        "    prompt_template = \"\"\"\n",
        "    Write a concise summary of the following text. include main points and important details in bullet points:\n",
        "    \"{text}\"\n",
        "    CONCISE SUMMARY:\n",
        "    \"\"\"\n",
        "    map_prompt = PromptTemplate(template=prompt_template, input_variables=[\"text\"])\n",
        "\n",
        "    # Button\n",
        "    if st.button(\"Summarize\"):\n",
        "      summary = summarize_pdf(pdf_file_path,1000,20,map_prompt)\n",
        "      st.write(summary)\n",
        "if __name__ == \"__main__\":\n",
        "    main()"
      ],
      "metadata": {
        "colab": {
          "base_uri": "https://localhost:8080/"
        },
        "id": "L8I-KWUFfqff",
        "outputId": "947bea81-3875-406d-d5fa-c6a4058863da"
      },
      "execution_count": 58,
      "outputs": [
        {
          "output_type": "stream",
          "name": "stdout",
          "text": [
            "Appending to app.py\n"
          ]
        }
      ]
    },
    {
      "cell_type": "markdown",
      "metadata": {
        "id": "wP_WW7ang6im"
      },
      "source": [
        "## Launch Streamlit app from Google Colab\n",
        "Launch Streamlit app from Google Colab using ngrok service.\n",
        "\n",
        "Start by downloding and unzipping ngrok\n",
        "\n",
        "\n",
        "\n"
      ]
    },
    {
      "cell_type": "code",
      "execution_count": 59,
      "metadata": {
        "id": "1r8I5kPmg5gB"
      },
      "outputs": [],
      "source": [
        "# NOTE: run this cell only the first time\n",
        "# !wgt https://bin.equinox.io/c/4VmDzA7iaHb/ngrok-stable-linux-amd64.zip\n",
        "# !unzip ngrok-stable-linux-amd64.zip"
      ]
    },
    {
      "cell_type": "code",
      "execution_count": 60,
      "metadata": {
        "id": "-eqxuZuJhcsZ"
      },
      "outputs": [],
      "source": [
        "get_ipython().system_raw('./ngrok http 8501 &')"
      ]
    },
    {
      "cell_type": "markdown",
      "metadata": {
        "id": "wJRysf0jhsWO"
      },
      "source": [
        "Generate an external IP to open the Streamlit app through a tunnel. The generated ip will be the password for the tunnel"
      ]
    },
    {
      "cell_type": "code",
      "execution_count": 61,
      "metadata": {
        "colab": {
          "base_uri": "https://localhost:8080/"
        },
        "id": "a4siFkFzhlmz",
        "outputId": "b968d973-7c66-4bc6-eba8-91e18cc7c9a4"
      },
      "outputs": [
        {
          "output_type": "stream",
          "name": "stdout",
          "text": [
            "34.85.152.63\n"
          ]
        }
      ],
      "source": [
        "!wget -q -O - ipv4.icanhazip.com"
      ]
    },
    {
      "cell_type": "markdown",
      "metadata": {
        "id": "VQTtTYyKiD7f"
      },
      "source": [
        "Run the app on the set port. Click on the provided link and paste the IP address provided above as the password"
      ]
    },
    {
      "cell_type": "code",
      "execution_count": null,
      "metadata": {
        "colab": {
          "base_uri": "https://localhost:8080/"
        },
        "id": "rezn78T0h2AR",
        "outputId": "cfdb2475-f253-4a9e-9dfd-4bfad2fa6199"
      },
      "outputs": [
        {
          "metadata": {
            "tags": null
          },
          "name": "stdout",
          "output_type": "stream",
          "text": [
            "\u001b[1G\u001b[0K⠙\u001b[1G\u001b[0K⠹\n",
            "Collecting usage statistics. To deactivate, set browser.gatherUsageStats to false.\n",
            "\u001b[0m\n",
            "\u001b[1G\u001b[0K⠸\u001b[1G\u001b[0K⠼\u001b[1G\u001b[0K⠴\u001b[1G\u001b[0K⠦\u001b[1G\u001b[0K⠧\u001b[1G\u001b[0K⠇\u001b[0m\n",
            "\u001b[34m\u001b[1m  You can now view your Streamlit app in your browser.\u001b[0m\n",
            "\u001b[0m\n",
            "\u001b[34m  Local URL: \u001b[0m\u001b[1mhttp://localhost:8501\u001b[0m\n",
            "\u001b[34m  Network URL: \u001b[0m\u001b[1mhttp://172.28.0.12:8501\u001b[0m\n",
            "\u001b[34m  External URL: \u001b[0m\u001b[1mhttp://34.85.152.63:8501\u001b[0m\n",
            "\u001b[0m\n",
            "\u001b[1G\u001b[0K⠏\u001b[1G\u001b[0Kyour url is: https://smart-spies-decide.loca.lt\n",
            "/content/app.py:3: LangChainDeprecationWarning: Importing PyPDFLoader from langchain.document_loaders is deprecated. Please replace deprecated imports:\n",
            "\n",
            ">> from langchain.document_loaders import PyPDFLoader\n",
            "\n",
            "with new imports of:\n",
            "\n",
            ">> from langchain_community.document_loaders import PyPDFLoader\n",
            "You can use the langchain cli to **automatically** upgrade many imports. Please see documentation here <https://python.langchain.com/docs/versions/v0_2/>\n",
            "  from langchain.document_loaders import PyPDFLoader\n",
            "/usr/local/lib/python3.11/dist-packages/langchain/__init__.py:30: UserWarning: Importing PromptTemplate from langchain root module is no longer supported. Please use langchain_core.prompts.PromptTemplate instead.\n",
            "  warnings.warn(\n",
            "API key: sk-proj-5pfnvLzOd8Qq....\n",
            "/content/app.py:3: LangChainDeprecationWarning: Importing PyPDFLoader from langchain.document_loaders is deprecated. Please replace deprecated imports:\n",
            "\n",
            ">> from langchain.document_loaders import PyPDFLoader\n",
            "\n",
            "with new imports of:\n",
            "\n",
            ">> from langchain_community.document_loaders import PyPDFLoader\n",
            "You can use the langchain cli to **automatically** upgrade many imports. Please see documentation here <https://python.langchain.com/docs/versions/v0_2/>\n",
            "  from langchain.document_loaders import PyPDFLoader\n",
            "API key: sk-proj-5pfnvLzOd8Qq....\n",
            "/content/app.py:3: LangChainDeprecationWarning: Importing PyPDFLoader from langchain.document_loaders is deprecated. Please replace deprecated imports:\n",
            "\n",
            ">> from langchain.document_loaders import PyPDFLoader\n",
            "\n",
            "with new imports of:\n",
            "\n",
            ">> from langchain_community.document_loaders import PyPDFLoader\n",
            "You can use the langchain cli to **automatically** upgrade many imports. Please see documentation here <https://python.langchain.com/docs/versions/v0_2/>\n",
            "  from langchain.document_loaders import PyPDFLoader\n",
            "API key: sk-proj-5pfnvLzOd8Qq....\n"
          ]
        }
      ],
      "source": [
        "!streamlit run app.py & npx localtunnel --port 8501"
      ]
    },
    {
      "cell_type": "code",
      "execution_count": null,
      "metadata": {
        "id": "0kDz1SOHmyZr"
      },
      "outputs": [],
      "source": [
        "\n"
      ]
    },
    {
      "cell_type": "code",
      "source": [],
      "metadata": {
        "id": "4WC6u69GjMep"
      },
      "execution_count": null,
      "outputs": []
    }
  ],
  "metadata": {
    "colab": {
      "provenance": [],
      "authorship_tag": "ABX9TyO1PWgOprLh3RxXhpUdxv9v",
      "include_colab_link": true
    },
    "kernelspec": {
      "display_name": "Python 3",
      "name": "python3"
    },
    "language_info": {
      "name": "python"
    }
  },
  "nbformat": 4,
  "nbformat_minor": 0
}